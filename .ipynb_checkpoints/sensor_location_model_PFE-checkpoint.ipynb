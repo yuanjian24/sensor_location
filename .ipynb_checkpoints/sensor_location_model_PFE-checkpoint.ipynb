{
 "cells": [
  {
   "cell_type": "markdown",
   "metadata": {},
   "source": [
    "# Path Flow Estimator"
   ]
  },
  {
   "cell_type": "code",
   "execution_count": 21,
   "metadata": {
    "ExecuteTime": {
     "end_time": "2023-06-25T01:18:25.676772Z",
     "start_time": "2023-06-25T01:18:25.670249Z"
    }
   },
   "outputs": [],
   "source": [
    "import gurobipy as gp  \n",
    "from gurobipy import GRB  \n",
    "import pickle  \n",
    "import model_param  # 计算参数的一堆函数"
   ]
  },
  {
   "cell_type": "markdown",
   "metadata": {},
   "source": [
    "## 数据部分"
   ]
  },
  {
   "cell_type": "markdown",
   "metadata": {},
   "source": [
    "读取基础数据文件（pNEUMA）"
   ]
  },
  {
   "cell_type": "code",
   "execution_count": 4,
   "metadata": {
    "ExecuteTime": {
     "end_time": "2023-06-25T00:47:21.784076Z",
     "start_time": "2023-06-25T00:47:18.066880Z"
    }
   },
   "outputs": [
    {
     "name": "stdout",
     "output_type": "stream",
     "text": [
      "num_route: 460, num_link: 402\n"
     ]
    }
   ],
   "source": [
    "pkl_file = open('data/df_route.pkl', 'rb')  # 这是预先处理好的数据文件 \n",
    "df_route = pickle.load(pkl_file)  \n",
    "pkl_file = open('data/edges_used.pkl', 'rb')  \n",
    "df_link = pickle.load(pkl_file) \n",
    "\n",
    "num_route, num_link = len(df_route), len(df_link)\n",
    "print(f'num_route: {num_route}, num_link: {num_link}') "
   ]
  },
  {
   "cell_type": "code",
   "execution_count": 5,
   "metadata": {
    "ExecuteTime": {
     "end_time": "2023-06-25T00:47:21.932785Z",
     "start_time": "2023-06-25T00:47:21.910221Z"
    }
   },
   "outputs": [
    {
     "data": {
      "text/html": [
       "<div>\n",
       "<style scoped>\n",
       "    .dataframe tbody tr th:only-of-type {\n",
       "        vertical-align: middle;\n",
       "    }\n",
       "\n",
       "    .dataframe tbody tr th {\n",
       "        vertical-align: top;\n",
       "    }\n",
       "\n",
       "    .dataframe thead th {\n",
       "        text-align: right;\n",
       "    }\n",
       "</style>\n",
       "<table border=\"1\" class=\"dataframe\">\n",
       "  <thead>\n",
       "    <tr style=\"text-align: right;\">\n",
       "      <th></th>\n",
       "      <th>OD_id</th>\n",
       "      <th>o_lon_col</th>\n",
       "      <th>o_lat_col</th>\n",
       "      <th>d_lon_col</th>\n",
       "      <th>d_lat_col</th>\n",
       "      <th>o_node_id</th>\n",
       "      <th>d_node_id</th>\n",
       "      <th>route_node</th>\n",
       "      <th>route_grid</th>\n",
       "      <th>route_flow</th>\n",
       "      <th>higher_routes</th>\n",
       "      <th>route_flow_true</th>\n",
       "    </tr>\n",
       "  </thead>\n",
       "  <tbody>\n",
       "    <tr>\n",
       "      <th>0</th>\n",
       "      <td>0</td>\n",
       "      <td>0</td>\n",
       "      <td>14</td>\n",
       "      <td>1</td>\n",
       "      <td>14</td>\n",
       "      <td>97835127</td>\n",
       "      <td>97834824</td>\n",
       "      <td>[97835127, 97834909, 633562896, 97834824]</td>\n",
       "      <td>[(0, 14), (0, 15), (1, 15), (1, 14)]</td>\n",
       "      <td>2</td>\n",
       "      <td>[1, 2, 3]</td>\n",
       "      <td>5</td>\n",
       "    </tr>\n",
       "    <tr>\n",
       "      <th>1</th>\n",
       "      <td>0</td>\n",
       "      <td>0</td>\n",
       "      <td>14</td>\n",
       "      <td>1</td>\n",
       "      <td>14</td>\n",
       "      <td>97835127</td>\n",
       "      <td>633562897</td>\n",
       "      <td>[97835127, 97834909, 633562896, 97834824, 9783...</td>\n",
       "      <td>[(0, 14), (0, 15), (1, 15), (1, 14), (1, 14), ...</td>\n",
       "      <td>1</td>\n",
       "      <td>[]</td>\n",
       "      <td>1</td>\n",
       "    </tr>\n",
       "  </tbody>\n",
       "</table>\n",
       "</div>"
      ],
      "text/plain": [
       "   OD_id  o_lon_col  o_lat_col  d_lon_col  d_lat_col  o_node_id  d_node_id  \\\n",
       "0      0          0         14          1         14   97835127   97834824   \n",
       "1      0          0         14          1         14   97835127  633562897   \n",
       "\n",
       "                                          route_node  \\\n",
       "0          [97835127, 97834909, 633562896, 97834824]   \n",
       "1  [97835127, 97834909, 633562896, 97834824, 9783...   \n",
       "\n",
       "                                          route_grid  route_flow  \\\n",
       "0               [(0, 14), (0, 15), (1, 15), (1, 14)]           2   \n",
       "1  [(0, 14), (0, 15), (1, 15), (1, 14), (1, 14), ...           1   \n",
       "\n",
       "  higher_routes  route_flow_true  \n",
       "0     [1, 2, 3]                5  \n",
       "1            []                1  "
      ]
     },
     "execution_count": 5,
     "metadata": {},
     "output_type": "execute_result"
    }
   ],
   "source": [
    "df_route.head(2)"
   ]
  },
  {
   "cell_type": "markdown",
   "metadata": {},
   "source": [
    "route_link_indicator"
   ]
  },
  {
   "cell_type": "code",
   "execution_count": 8,
   "metadata": {
    "ExecuteTime": {
     "end_time": "2023-06-25T00:47:53.635650Z",
     "start_time": "2023-06-25T00:47:47.176987Z"
    }
   },
   "outputs": [],
   "source": [
    "# get the route_link_indicator (可以打开脚本文件查看具体代码)\n",
    "route_link_indicator = model_param.get_indicator(num_route, num_link, df_route, df_link) "
   ]
  },
  {
   "cell_type": "markdown",
   "metadata": {},
   "source": [
    "给出检测器布局方案（本案例我们采用最大化可观测路径下的检测器布局方案）"
   ]
  },
  {
   "cell_type": "code",
   "execution_count": 9,
   "metadata": {
    "ExecuteTime": {
     "end_time": "2023-06-25T00:56:17.323558Z",
     "start_time": "2023-06-25T00:56:17.315855Z"
    }
   },
   "outputs": [],
   "source": [
    "# number of sensors\n",
    "num_sensor = 40\n",
    "\n",
    "# scanned_links & observable_routes (read from pickle files) \n",
    "pkl_file = open('data/exp_design/link_scanned_{}_sensors.pkl'.format(num_sensor), 'rb')\n",
    "scanned_links = pickle.load(pkl_file) \n",
    "\n",
    "pkl_file = open('data/exp_design/route_identified_{}_sensors.pkl'.format(num_sensor), 'rb')\n",
    "observable_routes = pickle.load(pkl_file) "
   ]
  },
  {
   "cell_type": "code",
   "execution_count": 12,
   "metadata": {
    "ExecuteTime": {
     "end_time": "2023-06-25T01:14:57.307728Z",
     "start_time": "2023-06-25T01:14:57.302980Z"
    }
   },
   "outputs": [],
   "source": [
    "# 检测器对\n",
    "sensor_od_pair = [(sensor_1, sensor_2) for sensor_1 in scanned_links for sensor_2 in scanned_links \n",
    "                  if sensor_1 != sensor_2]"
   ]
  },
  {
   "cell_type": "code",
   "execution_count": 10,
   "metadata": {
    "ExecuteTime": {
     "end_time": "2023-06-25T01:01:20.586010Z",
     "start_time": "2023-06-25T01:00:52.412448Z"
    }
   },
   "outputs": [],
   "source": [
    "# route_sensor_od_indicator\n",
    "route_sensor_od_indicator = model_param.get_route_sensor_od_indicator(num_route, \n",
    "                                                                      num_link,  \n",
    "                                                                      route_link_indicator,  \n",
    "                                                                      scanned_links,  \n",
    "                                                                      df_route,  \n",
    "                                                                      df_link) "
   ]
  },
  {
   "cell_type": "code",
   "execution_count": 11,
   "metadata": {
    "ExecuteTime": {
     "end_time": "2023-06-25T01:01:25.616040Z",
     "start_time": "2023-06-25T01:01:25.610951Z"
    }
   },
   "outputs": [],
   "source": [
    "# 6 route flow  \n",
    "route_flow = list(df_route['route_flow'])  "
   ]
  },
  {
   "cell_type": "code",
   "execution_count": 15,
   "metadata": {
    "ExecuteTime": {
     "end_time": "2023-06-25T01:16:01.557039Z",
     "start_time": "2023-06-25T01:15:48.432061Z"
    }
   },
   "outputs": [],
   "source": [
    "# sensor od flow \n",
    "sensor_od = model_param.get_sensor_OD_flow(num_route, num_link, \n",
    "                                           route_sensor_od_indicator, \n",
    "                                           scanned_links, df_route)  \n"
   ]
  },
  {
   "cell_type": "code",
   "execution_count": 13,
   "metadata": {
    "ExecuteTime": {
     "end_time": "2023-06-25T01:15:24.746846Z",
     "start_time": "2023-06-25T01:15:18.367606Z"
    }
   },
   "outputs": [],
   "source": [
    "# 路段流量\n",
    "df_link = model_param.get_link_flow(df_link, df_route, route_link_indicator)\n",
    "link_flow = list(df_link['link_flow'])"
   ]
  },
  {
   "cell_type": "code",
   "execution_count": 16,
   "metadata": {
    "ExecuteTime": {
     "end_time": "2023-06-25T01:16:04.003454Z",
     "start_time": "2023-06-25T01:16:03.962408Z"
    }
   },
   "outputs": [],
   "source": [
    "# 路段长度\n",
    "link_length = list(df_link['length'])"
   ]
  },
  {
   "cell_type": "code",
   "execution_count": 17,
   "metadata": {
    "ExecuteTime": {
     "end_time": "2023-06-25T01:16:16.675850Z",
     "start_time": "2023-06-25T01:16:16.669609Z"
    }
   },
   "outputs": [],
   "source": [
    "# 路段行程时间（自己写的一个阻抗函数）\n",
    "error_ratio = 0.01 #  \n",
    "link_tt = [model_param.bpr_link_tt(link_flow[link], link_length[link], error_ratio) \n",
    "           for link in range(num_link)] "
   ]
  },
  {
   "cell_type": "code",
   "execution_count": 18,
   "metadata": {
    "ExecuteTime": {
     "end_time": "2023-06-25T01:16:42.157399Z",
     "start_time": "2023-06-25T01:16:35.037316Z"
    }
   },
   "outputs": [],
   "source": [
    "# 路径行程时间\n",
    "route_tt = [] \n",
    "for route in range(num_route):\n",
    "    tmp = sum([link_tt[link] * route_link_indicator[route, link] for link in range(num_link)])\n",
    "    route_tt.append(tmp) "
   ]
  },
  {
   "cell_type": "code",
   "execution_count": 20,
   "metadata": {
    "ExecuteTime": {
     "end_time": "2023-06-25T01:17:23.593606Z",
     "start_time": "2023-06-25T01:17:23.503646Z"
    },
    "scrolled": true
   },
   "outputs": [],
   "source": [
    "# 13 OD对的列表 \n",
    "od_list = list(df_route.drop_duplicates('OD_id')['OD_id']) \n",
    "\n",
    "# 构建每个OD对与路径编号的关系 \n",
    "od_route_dict = {} \n",
    "for od in od_list: \n",
    "    od_route_dict[od] = [] \n",
    "# print(od_route_dict)  \n",
    "\n",
    "df_route['route_id'] = [i for i in range(num_route)] \n",
    "\n",
    "for route in range(num_route):\n",
    "    od = df_route.loc[route, 'OD_id'] \n",
    "    route = df_route.loc[route, 'route_id'] \n",
    "    od_list = od_route_dict[od] \n",
    "    if route not in od_list: \n",
    "        od_list.append(route) \n",
    "        od_route_dict[od] = od_list \n",
    "\n",
    "# 14 total OD flow\n",
    "od_flow_dict = {} \n",
    "\n",
    "for od, route_list in od_route_dict.items(): \n",
    "    od_flow = 0 \n",
    "    for route in route_list:  \n",
    "        od_flow += route_flow[route] \n",
    "    # print(od_flow) \n",
    "    od_flow_dict[od] = od_flow "
   ]
  },
  {
   "cell_type": "markdown",
   "metadata": {},
   "source": [
    "## 模型部分"
   ]
  },
  {
   "cell_type": "code",
   "execution_count": 26,
   "metadata": {
    "ExecuteTime": {
     "end_time": "2023-06-25T01:49:26.225116Z",
     "start_time": "2023-06-25T01:49:17.998073Z"
    }
   },
   "outputs": [
    {
     "name": "stdout",
     "output_type": "stream",
     "text": [
      "Parameter OutputFlag unchanged\n",
      "   Value: 1  Min: 0  Max: 1  Default: 1\n",
      "Changed value of parameter NonConvex to 2\n",
      "   Prev: -1  Min: -1  Max: 2  Default: -1\n",
      "Changed value of parameter PoolGap to 0.25\n",
      "   Prev: inf  Min: 0.0  Max: inf  Default: inf\n",
      "Changed value of parameter TimeLimit to 300.0\n",
      "   Prev: inf  Min: 0.0  Max: inf  Default: inf\n",
      "Gurobi Optimizer version 9.1.1 build v9.1.1rc0 (mac64)\n",
      "Thread count: 2 physical cores, 4 logical processors, using up to 4 threads\n",
      "Optimize a model with 999 rows, 2775 columns and 3861 nonzeros\n",
      "Model fingerprint: 0xb643a070\n",
      "Model has 460 quadratic objective terms\n",
      "Model has 402 quadratic constraints\n",
      "Model has 460 general constraints\n",
      "Variable types: 2775 continuous, 0 integer (0 binary)\n",
      "Coefficient statistics:\n",
      "  Matrix range     [1e+00, 2e+00]\n",
      "  QMatrix range    [1e+00, 1e+00]\n",
      "  QLMatrix range   [1e+00, 1e+00]\n",
      "  Objective range  [4e+01, 3e+02]\n",
      "  QObjective range [2e+02, 2e+02]\n",
      "  Bounds range     [0e+00, 0e+00]\n",
      "  RHS range        [1e+00, 1e+04]\n",
      "\n",
      "User MIP start did not produce a new incumbent solution\n",
      "\n",
      "Presolve added 0 rows and 11413 columns\n",
      "Presolve removed 516 rows and 0 columns\n",
      "Presolve time: 0.75s\n",
      "Presolved: 1077 rows, 14316 columns, 43205 nonzeros\n",
      "Presolved model has 127 SOS constraint(s)\n",
      "Presolved model has 240 bilinear constraint(s)\n",
      "Variable types: 14316 continuous, 0 integer (0 binary)\n",
      "\n",
      "Root relaxation: objective 6.574322e+07, 86 iterations, 0.01 seconds\n",
      "\n",
      "    Nodes    |    Current Node    |     Objective Bounds      |     Work\n",
      " Expl Unexpl |  Obj  Depth IntInf | Incumbent    BestBd   Gap | It/Node Time\n",
      "\n",
      "*    0     0               0    6.574322e+07 6.5743e+07  0.00%     -    0s\n",
      "\n",
      "Explored 0 nodes (86 simplex iterations) in 0.95 seconds\n",
      "Thread count was 4 (of 4 available processors)\n",
      "\n",
      "Solution count 1: 6.57432e+07 \n",
      "\n",
      "Optimal solution found (tolerance 1.00e-04)\n",
      "Best objective 6.574321923470e+07, best bound 6.574321923470e+07, gap 0.0000%\n",
      "RMSE: 3.38 MAPE: 32.93%\n"
     ]
    }
   ],
   "source": [
    "# 模型部分\n",
    "### Model Formulation ###\n",
    "model = gp.Model('path_flow_estimator')\n",
    "\n",
    "### Variables ###\n",
    "route_flow_est = model.addVars(num_route, name='route_flow_est') \n",
    "route_flow_est_ln = model.addVars(num_route, name='route_flow_est_ln') \n",
    "\n",
    "link_flow_est = model.addVars(num_link, name='link_flow_est') \n",
    "link_flow_est_two_fold = model.addVars(num_link, name='link_flow_est_two_fold') \n",
    "\n",
    "link_tt_est = model.addVars(num_link, name='link_tt') \n",
    "link_tt_quad_est = model.addVars(num_link, name='link_tt_quad') \n",
    "# route_tt_est = model.addVars(num_route, name='route_tt') \n",
    "\n",
    "num_od = len(od_route_dict)\n",
    "od_flow_var = model.addVars(num_od, name='od_flow_var') \n",
    "\n",
    "### Objective function ###\n",
    "expr = gp.QuadExpr() \n",
    "\n",
    "# dispersion parameter\n",
    "theta = 0.01  # test the model under UE condition （模型参数）\n",
    "for route in range(num_route): \n",
    "    obj_1 = route_flow_est[route] * (route_flow_est_ln[route] - 1) \n",
    "    expr +=  1 / theta * obj_1 \n",
    "\n",
    "for link in range(num_link): \n",
    "    tt_tmp = 300 * link_flow_est[link] + 45 * link_flow_est_two_fold[link]  # 根据需要进行改进\n",
    "    expr += tt_tmp \n",
    "\n",
    "model.setObjective(expr, GRB.MINIMIZE) \n",
    "\n",
    "# 避免过大方差\n",
    "# for od, route_list in od_route_dict.items():\n",
    "#     for route in route_list:\n",
    "#         expr += (route_flow_est[route] - od_flow_dict[od] / len(route_list)) * (route_flow_est[route] - od_flow_dict[od] / len(route_list))\n",
    "\n",
    "\n",
    "### Constraints ###\n",
    "# c0: definitional constraints\n",
    "model.addConstrs((link_flow_est_two_fold[link] == link_flow_est[link] * link_flow_est[link]\n",
    "                 for link in range(num_link)))\n",
    "\n",
    "for route in range(num_route):\n",
    "    model.addGenConstrLog(route_flow_est[route], route_flow_est_ln[route], name='route_flow_ln %s' % route)\n",
    "\n",
    "# c1: the observable route flow   ### 无 AVI-sensor 时移除!!! ###   \n",
    "model.addConstrs((route_flow_est[route] == route_flow[route] \n",
    "                 for route in observable_routes), name='route_flow_obs') \n",
    "\n",
    "# c2: the estimated link flow \n",
    "model.addConstrs((sum([route_flow_est[route] * route_link_indicator[route, link] \n",
    "                      for route in range(num_route)]) == link_flow_est[link]\n",
    "                  for link in range(num_link)), name='link_flow_est')  # all links \n",
    "\n",
    "# c3: the observed link flow   ### 无 AVI-sensor 时移除!!! ###\n",
    "# epslon = 0.05  # allowed measurement error of the link flow \n",
    "# model.addConstrs((link_flow_est[link] >= link_flow[link] * (1 - epslon) for link in scanned_links), name='link_flow_obs_l')\n",
    "# model.addConstrs((link_flow_est[link] <= link_flow[link] * (1 + epslon) for link in scanned_links), name='link_flow_obs_u')\n",
    "\n",
    "# model.addConstrs((link_flow_est[link] == link_flow[link] for link in scanned_links), name='link_flow_obs')\n",
    "\n",
    "# c4: od flow (assume it to be known)  \n",
    "# for od, od_flow in od_flow_dict.items():  \n",
    "#     route_list = od_route_dict[od] \n",
    "#     model.addConstr(sum([route_flow_est[route] for route in route_list]) == od_flow, name='od_flow') \n",
    "\n",
    "# 同一个OD 设定不同路径的差异不能太大\n",
    "for route in range(num_route):\n",
    "    model.addConstr(route_flow_est[route] <= route_flow[route] * 30) \n",
    "\n",
    "### Model Settings ###   \n",
    "model.setParam(GRB.Param.OutputFlag, 1)  # model.Params.OutputFlag = 0 \n",
    "model.setParam(GRB.Param.NonConvex, 2)  # model.Params.NonConvex = 2 \n",
    "model.setParam(GRB.Param.PoolGap, 0.25)   \n",
    "model.setParam(GRB.Param.TimeLimit, 300)  # model.Params.TimeLimit = 100 \n",
    "\n",
    "### init values\n",
    "un_obs_route = [route for route in range(num_route) if route not in observable_routes] \n",
    "for route in un_obs_route: \n",
    "    route_flow_est[route].start = 1e-3 \n",
    "\n",
    "### Optimization ### \n",
    "model.optimize() \n",
    "status = model.Status \n",
    "\n",
    "if (status == GRB.OPTIMAL) or (status == GRB.TIME_LIMIT) or (status == GRB.INTERRUPTED): \n",
    "    # get the RMSE and the MAPE\n",
    "    rmse_route_flow, mape_route_flow = 0, 0\n",
    "    route_flow_result = model.getAttr('x', route_flow_est)\n",
    "    # print(route_flow_result.values())\n",
    "    # link_flow_result = model.getAttr('x', link_flow_est)\n",
    "\n",
    "    for route in range(num_route): \n",
    "        # if route in observable_routes:\n",
    "        #     continue \n",
    "        # if (route_flow[route] - 1 >= 1e-3) and ((route_flow_result[route] - 1) < 1e-3):\n",
    "        #     rmse_route_flow += route_flow[route] ** 2\n",
    "        #     mape_route_flow += 1\n",
    "        # else:\n",
    "        rmse_route_flow += (route_flow[route] - route_flow_result[route]) ** 2 / 100 # RMSE需要缩放回去，MAPE不用\n",
    "        mape_route_flow += abs(route_flow[route] - route_flow_result[route]) / route_flow[route]\n",
    "\n",
    "    rmse_route_flow = (rmse_route_flow / num_route) ** 0.5\n",
    "    mape_route_flow /= num_route\n",
    "    print('RMSE:', round(rmse_route_flow, 2), 'MAPE: {}%'.format(round(mape_route_flow * 100, 2))) \n",
    "\n",
    "#     mape.append(mape_route_flow)\n",
    "#     rmse.append(rmse_route_flow)\n",
    "\n",
    "    df_route['route_flow_result'] = route_flow_result.values()  \n",
    "\n",
    "    # num_sensor = 0  \n",
    "    # PFE_plot_2(df_route, scenario, num_sensor, observable_routes, rmse_route_flow, mape_route_flow)  \n",
    "else:  \n",
    "    print('model has no solution')   "
   ]
  },
  {
   "cell_type": "code",
   "execution_count": null,
   "metadata": {},
   "outputs": [],
   "source": []
  }
 ],
 "metadata": {
  "kernelspec": {
   "display_name": "data",
   "language": "python",
   "name": "data"
  },
  "language_info": {
   "codemirror_mode": {
    "name": "ipython",
    "version": 3
   },
   "file_extension": ".py",
   "mimetype": "text/x-python",
   "name": "python",
   "nbconvert_exporter": "python",
   "pygments_lexer": "ipython3",
   "version": "3.6.12"
  },
  "toc": {
   "base_numbering": 1,
   "nav_menu": {},
   "number_sections": false,
   "sideBar": true,
   "skip_h1_title": false,
   "title_cell": "Table of Contents",
   "title_sidebar": "Contents",
   "toc_cell": false,
   "toc_position": {
    "height": "calc(100% - 180px)",
    "left": "10px",
    "top": "150px",
    "width": "384px"
   },
   "toc_section_display": true,
   "toc_window_display": true
  },
  "varInspector": {
   "cols": {
    "lenName": 16,
    "lenType": 16,
    "lenVar": 40
   },
   "kernels_config": {
    "python": {
     "delete_cmd_postfix": "",
     "delete_cmd_prefix": "del ",
     "library": "var_list.py",
     "varRefreshCmd": "print(var_dic_list())"
    },
    "r": {
     "delete_cmd_postfix": ") ",
     "delete_cmd_prefix": "rm(",
     "library": "var_list.r",
     "varRefreshCmd": "cat(var_dic_list()) "
    }
   },
   "types_to_exclude": [
    "module",
    "function",
    "builtin_function_or_method",
    "instance",
    "_Feature"
   ],
   "window_display": false
  }
 },
 "nbformat": 4,
 "nbformat_minor": 4
}
