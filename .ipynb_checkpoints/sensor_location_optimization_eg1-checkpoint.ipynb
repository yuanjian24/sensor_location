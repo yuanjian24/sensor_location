{
 "cells": [
  {
   "cell_type": "markdown",
   "metadata": {},
   "source": [
    "# Traffic Sensor Loction Optimization Model"
   ]
  },
  {
   "cell_type": "markdown",
   "metadata": {},
   "source": [
    "### Model 1: Full route observability \n",
    "\n",
    "#### Scenario 1: pNEUMA dataset"
   ]
  },
  {
   "cell_type": "code",
   "execution_count": 10,
   "metadata": {
    "ExecuteTime": {
     "end_time": "2023-06-17T03:33:29.719045Z",
     "start_time": "2023-06-17T03:33:29.699344Z"
    }
   },
   "outputs": [],
   "source": [
    "import pickle\n",
    "import observability_model as om\n",
    "import scipy.stats as stats\n",
    "import model_param  # 计算参数的一堆函数"
   ]
  },
  {
   "cell_type": "code",
   "execution_count": 13,
   "metadata": {
    "ExecuteTime": {
     "end_time": "2023-06-17T03:33:43.815563Z",
     "start_time": "2023-06-17T03:33:43.771527Z"
    }
   },
   "outputs": [],
   "source": [
    "# 读取基础数据文件（pNEUMA）\n",
    "pkl_file = open('data/df_route.pkl', 'rb')  # 这是预先处理好的复杂数据文件 \n",
    "df_route = pickle.load(pkl_file)  \n",
    "pkl_file = open('data/edges_used.pkl', 'rb')  \n",
    "df_link = pickle.load(pkl_file) \n",
    "\n",
    "num_route, num_link = len(df_route), len(df_link)\n",
    "print(f'num_route: {num_route}, num_link: {num_link}') "
   ]
  },
  {
   "cell_type": "code",
   "execution_count": 15,
   "metadata": {
    "ExecuteTime": {
     "end_time": "2023-06-17T03:34:10.703055Z",
     "start_time": "2023-06-17T03:34:10.557598Z"
    },
    "scrolled": true
   },
   "outputs": [
    {
     "data": {
      "text/html": [
       "<div>\n",
       "<style scoped>\n",
       "    .dataframe tbody tr th:only-of-type {\n",
       "        vertical-align: middle;\n",
       "    }\n",
       "\n",
       "    .dataframe tbody tr th {\n",
       "        vertical-align: top;\n",
       "    }\n",
       "\n",
       "    .dataframe thead th {\n",
       "        text-align: right;\n",
       "    }\n",
       "</style>\n",
       "<table border=\"1\" class=\"dataframe\">\n",
       "  <thead>\n",
       "    <tr style=\"text-align: right;\">\n",
       "      <th></th>\n",
       "      <th>OD_id</th>\n",
       "      <th>o_lon_col</th>\n",
       "      <th>o_lat_col</th>\n",
       "      <th>d_lon_col</th>\n",
       "      <th>d_lat_col</th>\n",
       "      <th>o_node_id</th>\n",
       "      <th>d_node_id</th>\n",
       "      <th>route_node</th>\n",
       "      <th>route_grid</th>\n",
       "      <th>route_flow</th>\n",
       "      <th>higher_routes</th>\n",
       "      <th>route_flow_true</th>\n",
       "    </tr>\n",
       "  </thead>\n",
       "  <tbody>\n",
       "    <tr>\n",
       "      <th>0</th>\n",
       "      <td>0</td>\n",
       "      <td>0</td>\n",
       "      <td>14</td>\n",
       "      <td>1</td>\n",
       "      <td>14</td>\n",
       "      <td>97835127</td>\n",
       "      <td>97834824</td>\n",
       "      <td>[97835127, 97834909, 633562896, 97834824]</td>\n",
       "      <td>[(0, 14), (0, 15), (1, 15), (1, 14)]</td>\n",
       "      <td>2</td>\n",
       "      <td>[1, 2, 3]</td>\n",
       "      <td>5</td>\n",
       "    </tr>\n",
       "    <tr>\n",
       "      <th>1</th>\n",
       "      <td>0</td>\n",
       "      <td>0</td>\n",
       "      <td>14</td>\n",
       "      <td>1</td>\n",
       "      <td>14</td>\n",
       "      <td>97835127</td>\n",
       "      <td>633562897</td>\n",
       "      <td>[97835127, 97834909, 633562896, 97834824, 9783...</td>\n",
       "      <td>[(0, 14), (0, 15), (1, 15), (1, 14), (1, 14), ...</td>\n",
       "      <td>1</td>\n",
       "      <td>[]</td>\n",
       "      <td>1</td>\n",
       "    </tr>\n",
       "  </tbody>\n",
       "</table>\n",
       "</div>"
      ],
      "text/plain": [
       "   OD_id  o_lon_col  o_lat_col  d_lon_col  d_lat_col  o_node_id  d_node_id  \\\n",
       "0      0          0         14          1         14   97835127   97834824   \n",
       "1      0          0         14          1         14   97835127  633562897   \n",
       "\n",
       "                                          route_node  \\\n",
       "0          [97835127, 97834909, 633562896, 97834824]   \n",
       "1  [97835127, 97834909, 633562896, 97834824, 9783...   \n",
       "\n",
       "                                          route_grid  route_flow  \\\n",
       "0               [(0, 14), (0, 15), (1, 15), (1, 14)]           2   \n",
       "1  [(0, 14), (0, 15), (1, 15), (1, 14), (1, 14), ...           1   \n",
       "\n",
       "  higher_routes  route_flow_true  \n",
       "0     [1, 2, 3]                5  \n",
       "1            []                1  "
      ]
     },
     "execution_count": 15,
     "metadata": {},
     "output_type": "execute_result"
    }
   ],
   "source": [
    "df_route.head(2)"
   ]
  },
  {
   "cell_type": "code",
   "execution_count": 16,
   "metadata": {
    "ExecuteTime": {
     "end_time": "2023-06-17T03:34:13.024164Z",
     "start_time": "2023-06-17T03:34:12.947533Z"
    },
    "scrolled": true
   },
   "outputs": [
    {
     "data": {
      "text/html": [
       "<div>\n",
       "<style scoped>\n",
       "    .dataframe tbody tr th:only-of-type {\n",
       "        vertical-align: middle;\n",
       "    }\n",
       "\n",
       "    .dataframe tbody tr th {\n",
       "        vertical-align: top;\n",
       "    }\n",
       "\n",
       "    .dataframe thead th {\n",
       "        text-align: right;\n",
       "    }\n",
       "</style>\n",
       "<table border=\"1\" class=\"dataframe\">\n",
       "  <thead>\n",
       "    <tr style=\"text-align: right;\">\n",
       "      <th></th>\n",
       "      <th>u</th>\n",
       "      <th>v</th>\n",
       "      <th>osmid</th>\n",
       "      <th>lanes</th>\n",
       "      <th>name</th>\n",
       "      <th>length</th>\n",
       "      <th>geometry</th>\n",
       "      <th>link_flow</th>\n",
       "    </tr>\n",
       "  </thead>\n",
       "  <tbody>\n",
       "    <tr>\n",
       "      <th>0</th>\n",
       "      <td>250720872</td>\n",
       "      <td>250720873</td>\n",
       "      <td>286070634</td>\n",
       "      <td>2</td>\n",
       "      <td>Αγίου Κωνσταντίνου</td>\n",
       "      <td>63.792</td>\n",
       "      <td>LINESTRING (23.72556 37.98454, 23.72544 37.984...</td>\n",
       "      <td>66</td>\n",
       "    </tr>\n",
       "    <tr>\n",
       "      <th>1</th>\n",
       "      <td>250720873</td>\n",
       "      <td>250720874</td>\n",
       "      <td>286070634</td>\n",
       "      <td>2</td>\n",
       "      <td>Αγίου Κωνσταντίνου</td>\n",
       "      <td>68.603</td>\n",
       "      <td>LINESTRING (23.72485 37.98466, 23.72461 37.984...</td>\n",
       "      <td>14</td>\n",
       "    </tr>\n",
       "  </tbody>\n",
       "</table>\n",
       "</div>"
      ],
      "text/plain": [
       "           u          v      osmid lanes                name  length  \\\n",
       "0  250720872  250720873  286070634     2  Αγίου Κωνσταντίνου  63.792   \n",
       "1  250720873  250720874  286070634     2  Αγίου Κωνσταντίνου  68.603   \n",
       "\n",
       "                                            geometry  link_flow  \n",
       "0  LINESTRING (23.72556 37.98454, 23.72544 37.984...         66  \n",
       "1  LINESTRING (23.72485 37.98466, 23.72461 37.984...         14  "
      ]
     },
     "execution_count": 16,
     "metadata": {},
     "output_type": "execute_result"
    }
   ],
   "source": [
    "df_link.head(2)"
   ]
  },
  {
   "cell_type": "code",
   "execution_count": 14,
   "metadata": {
    "ExecuteTime": {
     "end_time": "2023-06-17T03:33:52.280943Z",
     "start_time": "2023-06-17T03:33:45.920513Z"
    }
   },
   "outputs": [],
   "source": [
    "# route_link_indicator\n",
    "route_link_indicator = model_param.get_indicator(num_route, num_link, df_route, df_link) # 不费时"
   ]
  },
  {
   "cell_type": "code",
   "execution_count": 17,
   "metadata": {
    "ExecuteTime": {
     "end_time": "2023-06-17T04:12:27.528544Z",
     "start_time": "2023-06-17T03:35:13.951197Z"
    },
    "scrolled": false
   },
   "outputs": [
    {
     "name": "stdout",
     "output_type": "stream",
     "text": [
      "Using license file /Users/jame/gurobi.lic\n",
      "Gurobi Optimizer version 9.1.1 build v9.1.1rc0 (mac64)\n",
      "Thread count: 2 physical cores, 4 logical processors, using up to 4 threads\n",
      "Optimize a model with 106030 rows, 402 columns and 1282225 nonzeros\n",
      "Model fingerprint: 0x4973e5b3\n",
      "Variable types: 0 continuous, 402 integer (402 binary)\n",
      "Coefficient statistics:\n",
      "  Matrix range     [1e+00, 1e+00]\n",
      "  Objective range  [1e+00, 1e+00]\n",
      "  Bounds range     [1e+00, 1e+00]\n",
      "  RHS range        [1e+00, 1e+00]\n",
      "Found heuristic solution: objective 199.0000000\n",
      "Presolve removed 106008 rows and 388 columns\n",
      "Presolve time: 0.63s\n",
      "Presolved: 22 rows, 14 columns, 99 nonzeros\n",
      "Found heuristic solution: objective 193.0000000\n",
      "Variable types: 0 continuous, 14 integer (14 binary)\n",
      "\n",
      "Root relaxation: cutoff, 13 iterations, 0.01 seconds\n",
      "\n",
      "    Nodes    |    Current Node    |     Objective Bounds      |     Work\n",
      " Expl Unexpl |  Obj  Depth IntInf | Incumbent    BestBd   Gap | It/Node Time\n",
      "\n",
      "     0     0     cutoff    0       193.00000  193.00000  0.00%     -    0s\n",
      "\n",
      "Explored 0 nodes (13 simplex iterations) in 0.89 seconds\n",
      "Thread count was 4 (of 4 available processors)\n",
      "\n",
      "Solution count 2: 193 199 \n",
      "\n",
      "Optimal solution found (tolerance 1.00e-04)\n",
      "Best objective 1.930000000000e+02, best bound 1.930000000000e+02, gap 0.0000%\n"
     ]
    }
   ],
   "source": [
    "# get the results\n",
    "scanned_links, observable_routes = om.full_observability(num_route, num_link, route_link_indicator)"
   ]
  },
  {
   "cell_type": "code",
   "execution_count": 18,
   "metadata": {
    "ExecuteTime": {
     "end_time": "2023-06-17T04:13:09.508439Z",
     "start_time": "2023-06-17T04:13:09.471049Z"
    }
   },
   "outputs": [
    {
     "name": "stdout",
     "output_type": "stream",
     "text": [
      "total scanned links: 193\n",
      "[0, 1, 2, 3, 4, 5, 7, 8, 9, 10, 14, 15, 20, 24, 25, 26, 27, 36, 38, 39, 41, 43, 44, 48, 52, 53, 56, 57, 61, 64, 65, 67, 68, 70, 72, 73, 78, 79, 80, 81, 82, 84, 85, 86, 90, 91, 95, 96, 97, 98, 100, 101, 102, 106, 108, 109, 110, 111, 113, 114, 115, 117, 118, 120, 122, 123, 125, 127, 128, 129, 130, 141, 142, 143, 145, 146, 148, 149, 150, 153, 154, 155, 157, 163, 164, 166, 167, 172, 173, 175, 176, 177, 178, 180, 182, 183, 185, 187, 188, 189, 190, 192, 194, 196, 197, 202, 203, 204, 205, 206, 207, 208, 210, 214, 215, 218, 219, 220, 221, 225, 226, 231, 232, 234, 235, 236, 237, 239, 240, 243, 246, 247, 251, 256, 257, 262, 267, 268, 273, 274, 277, 280, 282, 283, 285, 287, 291, 293, 294, 296, 298, 300, 304, 305, 306, 309, 311, 316, 317, 323, 326, 327, 328, 330, 331, 332, 333, 335, 336, 337, 338, 341, 343, 344, 345, 346, 348, 349, 354, 357, 360, 361, 362, 365, 370, 375, 377, 381, 382, 385, 389, 395, 397]\n"
     ]
    }
   ],
   "source": [
    "print(f'total scanned links: {scanned_links}')\n",
    "print(observable_routes) "
   ]
  },
  {
   "cell_type": "markdown",
   "metadata": {},
   "source": [
    "### Model 2: Sensor-Budget-Constrained Route Flow Observability Model"
   ]
  },
  {
   "cell_type": "code",
   "execution_count": null,
   "metadata": {},
   "outputs": [],
   "source": []
  }
 ],
 "metadata": {
  "kernelspec": {
   "display_name": "data",
   "language": "python",
   "name": "data"
  },
  "language_info": {
   "codemirror_mode": {
    "name": "ipython",
    "version": 3
   },
   "file_extension": ".py",
   "mimetype": "text/x-python",
   "name": "python",
   "nbconvert_exporter": "python",
   "pygments_lexer": "ipython3",
   "version": "3.6.12"
  },
  "toc": {
   "base_numbering": 1,
   "nav_menu": {},
   "number_sections": false,
   "sideBar": true,
   "skip_h1_title": false,
   "title_cell": "Table of Contents",
   "title_sidebar": "Contents",
   "toc_cell": false,
   "toc_position": {
    "height": "calc(100% - 180px)",
    "left": "10px",
    "top": "150px",
    "width": "321px"
   },
   "toc_section_display": true,
   "toc_window_display": true
  },
  "varInspector": {
   "cols": {
    "lenName": 16,
    "lenType": 16,
    "lenVar": 40
   },
   "kernels_config": {
    "python": {
     "delete_cmd_postfix": "",
     "delete_cmd_prefix": "del ",
     "library": "var_list.py",
     "varRefreshCmd": "print(var_dic_list())"
    },
    "r": {
     "delete_cmd_postfix": ") ",
     "delete_cmd_prefix": "rm(",
     "library": "var_list.r",
     "varRefreshCmd": "cat(var_dic_list()) "
    }
   },
   "types_to_exclude": [
    "module",
    "function",
    "builtin_function_or_method",
    "instance",
    "_Feature"
   ],
   "window_display": false
  }
 },
 "nbformat": 4,
 "nbformat_minor": 4
}
